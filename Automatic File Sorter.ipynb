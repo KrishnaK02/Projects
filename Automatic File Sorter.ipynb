{
 "cells": [
  {
   "cell_type": "code",
   "execution_count": 27,
   "id": "426451e5-e325-4f3c-9a84-b0328c82ef33",
   "metadata": {},
   "outputs": [],
   "source": [
    "import os, shutil"
   ]
  },
  {
   "cell_type": "code",
   "execution_count": 28,
   "id": "920c1b2b-e34e-400b-b30c-62cf04ea0505",
   "metadata": {},
   "outputs": [],
   "source": [
    "path = r\"C:/Users/Krishna/Desktop/DA Project/\""
   ]
  },
  {
   "cell_type": "code",
   "execution_count": 29,
   "id": "8619900a-e5e8-478d-806c-46f411f26a40",
   "metadata": {},
   "outputs": [],
   "source": [
    "file_name = os.listdir(path)"
   ]
  },
  {
   "cell_type": "code",
   "execution_count": 30,
   "id": "ffdabe0a-753e-44f1-99d8-5bc1f8ebc177",
   "metadata": {},
   "outputs": [],
   "source": [
    "folder_names = ['csv files', 'music files', 'image files', 'video files']"
   ]
  },
  {
   "cell_type": "code",
   "execution_count": 31,
   "id": "625befe2-5ac0-46da-b132-32300e7a5a0c",
   "metadata": {},
   "outputs": [],
   "source": [
    "for loop in range(0,4):\n",
    "    if not os.path.exists(path + folder_names[loop]):\n",
    "        print(path + folder_names[loop])\n",
    "        os.makedirs((path + folder_names[loop]))"
   ]
  },
  {
   "cell_type": "code",
   "execution_count": 32,
   "id": "555c3891-794f-4354-82c8-b5758066c82a",
   "metadata": {},
   "outputs": [],
   "source": [
    "for file in file_name:\n",
    "    if \".csv\" in file and not os.path.exists(path + \"csv files/\" + file):\n",
    "        shutil.move(path + file, path + \"csv files/\" + file)\n",
    "    elif \".flac\" in file and not os.path.exists(path + \"music files/\" + file):\n",
    "        shutil.move(path + file, path + \"music files/\" + file)\n",
    "    elif \".png\" in file and not os.path.exists(path + \"image files/\" + file):\n",
    "        shutil.move(path + file, path + \"image files/\" + file)\n",
    "    elif \".mp4\" in file and not os.path.exists(path + \"video files/\" + file):\n",
    "        shutil.move(path + file, path + \"video files/\" + file)"
   ]
  }
 ],
 "metadata": {
  "kernelspec": {
   "display_name": "Python 3 (ipykernel)",
   "language": "python",
   "name": "python3"
  },
  "language_info": {
   "codemirror_mode": {
    "name": "ipython",
    "version": 3
   },
   "file_extension": ".py",
   "mimetype": "text/x-python",
   "name": "python",
   "nbconvert_exporter": "python",
   "pygments_lexer": "ipython3",
   "version": "3.11.7"
  }
 },
 "nbformat": 4,
 "nbformat_minor": 5
}
