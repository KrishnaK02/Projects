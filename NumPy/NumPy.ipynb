{
 "cells": [
  {
   "cell_type": "markdown",
   "id": "b4af5fa2",
   "metadata": {},
   "source": [
    "# Array Creation"
   ]
  },
  {
   "cell_type": "code",
   "execution_count": 5,
   "id": "e8d61748",
   "metadata": {},
   "outputs": [],
   "source": [
    "import numpy as np"
   ]
  },
  {
   "cell_type": "code",
   "execution_count": 6,
   "id": "d64b2ada",
   "metadata": {},
   "outputs": [
    {
     "name": "stdout",
     "output_type": "stream",
     "text": [
      "[1 2 3 4 5]\n",
      "<class 'numpy.ndarray'>\n"
     ]
    }
   ],
   "source": [
    "#Create an array and print it.\n",
    "\n",
    "arr = np.array([1,2,3,4,5])\n",
    "\n",
    "print(arr)\n",
    "\n",
    "print(type(arr))\n",
    "\n",
    "#As we can see below, it is of n-dimensinal array."
   ]
  },
  {
   "cell_type": "code",
   "execution_count": 7,
   "id": "8193892c",
   "metadata": {},
   "outputs": [
    {
     "data": {
      "text/plain": [
       "array([[ 10,  20,  30,  40,  50],\n",
       "       [100, 210, 330, 430, 510]])"
      ]
     },
     "execution_count": 7,
     "metadata": {},
     "output_type": "execute_result"
    }
   ],
   "source": [
    "#If we want to print the array in the form of matrix, we can do it by -\n",
    "\n",
    "arr = np.array([[10,20,30,40,50],[100,210,330,430,510]])\n",
    "\n",
    "arr\n",
    "\n",
    "#Here the important thing to remember is that every list we provide must contain same number of elements which in this case here is 5."
   ]
  },
  {
   "cell_type": "code",
   "execution_count": 8,
   "id": "3372b5c6",
   "metadata": {},
   "outputs": [
    {
     "ename": "ValueError",
     "evalue": "setting an array element with a sequence. The requested array has an inhomogeneous shape after 1 dimensions. The detected shape was (2,) + inhomogeneous part.",
     "output_type": "error",
     "traceback": [
      "\u001b[1;31m---------------------------------------------------------------------------\u001b[0m",
      "\u001b[1;31mValueError\u001b[0m                                Traceback (most recent call last)",
      "Cell \u001b[1;32mIn[8], line 3\u001b[0m\n\u001b[0;32m      1\u001b[0m \u001b[38;5;66;03m#for instance\u001b[39;00m\n\u001b[1;32m----> 3\u001b[0m arr1 \u001b[38;5;241m=\u001b[39m np\u001b[38;5;241m.\u001b[39marray([[\u001b[38;5;241m1\u001b[39m,\u001b[38;5;241m2\u001b[39m,\u001b[38;5;241m4\u001b[39m,\u001b[38;5;241m5\u001b[39m,\u001b[38;5;241m6\u001b[39m],[\u001b[38;5;241m3\u001b[39m,\u001b[38;5;241m2\u001b[39m,\u001b[38;5;241m4\u001b[39m,\u001b[38;5;241m5\u001b[39m]])\n\u001b[0;32m      5\u001b[0m arr1\n",
      "\u001b[1;31mValueError\u001b[0m: setting an array element with a sequence. The requested array has an inhomogeneous shape after 1 dimensions. The detected shape was (2,) + inhomogeneous part."
     ]
    }
   ],
   "source": [
    "#for instance\n",
    "\n",
    "arr1 = np.array([[1,2,4,5,6],[3,2,4,5]])\n",
    "\n",
    "arr1"
   ]
  },
  {
   "cell_type": "markdown",
   "id": "3cfe9c6e",
   "metadata": {},
   "source": [
    "# Indexing & Slicing"
   ]
  },
  {
   "cell_type": "code",
   "execution_count": 9,
   "id": "b313d525",
   "metadata": {},
   "outputs": [
    {
     "data": {
      "text/plain": [
       "array([[ 10,  20,  30,  40,  50],\n",
       "       [100, 210, 330, 430, 510]])"
      ]
     },
     "execution_count": 9,
     "metadata": {},
     "output_type": "execute_result"
    }
   ],
   "source": [
    "arr"
   ]
  },
  {
   "cell_type": "code",
   "execution_count": 10,
   "id": "27f022de",
   "metadata": {},
   "outputs": [
    {
     "data": {
      "text/plain": [
       "array([[10, 20, 30, 40, 50]])"
      ]
     },
     "execution_count": 10,
     "metadata": {},
     "output_type": "execute_result"
    }
   ],
   "source": [
    "(arr[0:1])"
   ]
  },
  {
   "cell_type": "code",
   "execution_count": 11,
   "id": "9a679353",
   "metadata": {},
   "outputs": [
    {
     "name": "stdout",
     "output_type": "stream",
     "text": [
      "[[10 20 30 40 50]]\n"
     ]
    }
   ],
   "source": [
    "print((arr[0:1]))"
   ]
  },
  {
   "cell_type": "code",
   "execution_count": 12,
   "id": "9f60f4fb",
   "metadata": {},
   "outputs": [
    {
     "data": {
      "text/plain": [
       "[1, 3, 5, 8]"
      ]
     },
     "execution_count": 12,
     "metadata": {},
     "output_type": "execute_result"
    }
   ],
   "source": [
    "arr2 = ([1,3,5,8,9])\n",
    "\n",
    "arr2[0:4]"
   ]
  },
  {
   "cell_type": "code",
   "execution_count": 13,
   "id": "4934e12b",
   "metadata": {},
   "outputs": [
    {
     "data": {
      "text/plain": [
       "[1, 3, 5, 8, 9]"
      ]
     },
     "execution_count": 13,
     "metadata": {},
     "output_type": "execute_result"
    }
   ],
   "source": [
    "arr2[0:]"
   ]
  },
  {
   "cell_type": "code",
   "execution_count": 14,
   "id": "0e8f1e19",
   "metadata": {},
   "outputs": [
    {
     "data": {
      "text/plain": [
       "[1, 3, 5, 8, 9]"
      ]
     },
     "execution_count": 14,
     "metadata": {},
     "output_type": "execute_result"
    }
   ],
   "source": [
    "arr2[:]"
   ]
  },
  {
   "cell_type": "code",
   "execution_count": 15,
   "id": "44dbb1a1",
   "metadata": {},
   "outputs": [
    {
     "data": {
      "text/plain": [
       "[1, 3]"
      ]
     },
     "execution_count": 15,
     "metadata": {},
     "output_type": "execute_result"
    }
   ],
   "source": [
    "arr2[:2]"
   ]
  },
  {
   "cell_type": "code",
   "execution_count": 16,
   "id": "c6b7a5d9",
   "metadata": {
    "scrolled": true
   },
   "outputs": [
    {
     "data": {
      "text/plain": [
       "array([[ 10,  20,  30,  40,  50],\n",
       "       [100, 210, 330, 430, 510]])"
      ]
     },
     "execution_count": 16,
     "metadata": {},
     "output_type": "execute_result"
    }
   ],
   "source": [
    "arr"
   ]
  },
  {
   "cell_type": "code",
   "execution_count": 17,
   "id": "15da3dcf",
   "metadata": {},
   "outputs": [
    {
     "data": {
      "text/plain": [
       "array([ 20, 330])"
      ]
     },
     "execution_count": 17,
     "metadata": {},
     "output_type": "execute_result"
    }
   ],
   "source": [
    "#index one element from the first array\n",
    "#index two element from the second array\n",
    "\n",
    "arr[[0, 1],[1,2]]"
   ]
  },
  {
   "cell_type": "code",
   "execution_count": 18,
   "id": "d63608c7",
   "metadata": {},
   "outputs": [
    {
     "data": {
      "text/plain": [
       "array([[ 10,  20],\n",
       "       [100, 210]])"
      ]
     },
     "execution_count": 18,
     "metadata": {},
     "output_type": "execute_result"
    }
   ],
   "source": [
    "#print the first 2 elements of each array\n",
    "\n",
    "arr[0:2,0:2]"
   ]
  },
  {
   "cell_type": "code",
   "execution_count": 19,
   "id": "38ebf3a0",
   "metadata": {},
   "outputs": [
    {
     "data": {
      "text/plain": [
       "array([[ 10,  20,  30],\n",
       "       [100, 210, 330]])"
      ]
     },
     "execution_count": 19,
     "metadata": {},
     "output_type": "execute_result"
    }
   ],
   "source": [
    "#even though we have given different boundaries for each array, it is not possible/valid in Numpy. Therefore, we ended up with the higher boundary i.e. [0:3]\n",
    "\n",
    "arr[0:2,0:3]"
   ]
  },
  {
   "cell_type": "code",
   "execution_count": 20,
   "id": "04647661",
   "metadata": {},
   "outputs": [
    {
     "data": {
      "text/plain": [
       "(2, 5)"
      ]
     },
     "execution_count": 20,
     "metadata": {},
     "output_type": "execute_result"
    }
   ],
   "source": [
    "np.shape(arr)"
   ]
  },
  {
   "cell_type": "code",
   "execution_count": 21,
   "id": "cf0f3a23",
   "metadata": {},
   "outputs": [
    {
     "data": {
      "text/plain": [
       "10"
      ]
     },
     "execution_count": 21,
     "metadata": {},
     "output_type": "execute_result"
    }
   ],
   "source": [
    "np.size(arr)"
   ]
  },
  {
   "cell_type": "code",
   "execution_count": 22,
   "id": "7210ecbd",
   "metadata": {},
   "outputs": [
    {
     "data": {
      "text/plain": [
       "2"
      ]
     },
     "execution_count": 22,
     "metadata": {},
     "output_type": "execute_result"
    }
   ],
   "source": [
    "np.ndim(arr)"
   ]
  },
  {
   "cell_type": "code",
   "execution_count": 23,
   "id": "67f04b75",
   "metadata": {},
   "outputs": [
    {
     "data": {
      "text/plain": [
       "dtype('int32')"
      ]
     },
     "execution_count": 23,
     "metadata": {},
     "output_type": "execute_result"
    }
   ],
   "source": [
    "arr.dtype"
   ]
  },
  {
   "cell_type": "code",
   "execution_count": 24,
   "id": "782f56a5",
   "metadata": {},
   "outputs": [
    {
     "data": {
      "text/plain": [
       "[[0, 9, 8, 7, 6]]"
      ]
     },
     "execution_count": 24,
     "metadata": {},
     "output_type": "execute_result"
    }
   ],
   "source": [
    "array = [[[1,2,3,4,5],[0,9,8,7,6],[11,12,13,14,15]]]\n",
    "\n",
    "array[0][1:2]"
   ]
  },
  {
   "cell_type": "code",
   "execution_count": 25,
   "id": "e9012101",
   "metadata": {},
   "outputs": [
    {
     "name": "stdout",
     "output_type": "stream",
     "text": [
      "int32\n"
     ]
    }
   ],
   "source": [
    "#Since the list above is still a python list, it does not work with 'array.dtype()' code. We need to change that to NumPy list as below.\n",
    "\n",
    "np_array = np.array(array)\n",
    "\n",
    "print(np_array.dtype)"
   ]
  },
  {
   "cell_type": "code",
   "execution_count": 26,
   "id": "af87bd98",
   "metadata": {},
   "outputs": [
    {
     "data": {
      "text/plain": [
       "array([[[ 1.,  2.,  3.,  4.,  5.],\n",
       "        [ 0.,  9.,  8.,  7.,  6.],\n",
       "        [11., 12., 13., 14., 15.]]])"
      ]
     },
     "execution_count": 26,
     "metadata": {},
     "output_type": "execute_result"
    }
   ],
   "source": [
    "#To convert a data type into another data type, we use .astype function as shown below.\n",
    "\n",
    "np_array.astype(float)"
   ]
  },
  {
   "cell_type": "code",
   "execution_count": 27,
   "id": "08e5828d",
   "metadata": {},
   "outputs": [
    {
     "data": {
      "text/plain": [
       "array([[ 10,  20,  30,  40,  50],\n",
       "       [100, 210, 330, 430, 510]])"
      ]
     },
     "execution_count": 27,
     "metadata": {},
     "output_type": "execute_result"
    }
   ],
   "source": [
    "arr"
   ]
  },
  {
   "cell_type": "code",
   "execution_count": 28,
   "id": "4af81ff2",
   "metadata": {},
   "outputs": [
    {
     "name": "stdout",
     "output_type": "stream",
     "text": [
      "2\n"
     ]
    }
   ],
   "source": [
    "#length of th array as in how many rows are there.\n",
    "\n",
    "print(len(arr))"
   ]
  },
  {
   "cell_type": "code",
   "execution_count": 29,
   "id": "e48bec61",
   "metadata": {},
   "outputs": [
    {
     "data": {
      "text/plain": [
       "10"
      ]
     },
     "execution_count": 29,
     "metadata": {},
     "output_type": "execute_result"
    }
   ],
   "source": [
    "#Total number of elements in all of the arrays.\n",
    "\n",
    "np.size(arr)"
   ]
  },
  {
   "cell_type": "markdown",
   "id": "06476b78",
   "metadata": {},
   "source": [
    "# Mathematical Operations"
   ]
  },
  {
   "cell_type": "code",
   "execution_count": 30,
   "id": "9b163828",
   "metadata": {},
   "outputs": [
    {
     "data": {
      "text/plain": [
       "array([[ 10,  20,  30,  40,  50],\n",
       "       [100, 210, 330, 430, 510]])"
      ]
     },
     "execution_count": 30,
     "metadata": {},
     "output_type": "execute_result"
    }
   ],
   "source": [
    "#Subtraction:\n",
    "\n",
    "arr"
   ]
  },
  {
   "cell_type": "code",
   "execution_count": 31,
   "id": "2ade09ec",
   "metadata": {},
   "outputs": [
    {
     "data": {
      "text/plain": [
       "array([ 90, 190, 300, 390, 460])"
      ]
     },
     "execution_count": 31,
     "metadata": {},
     "output_type": "execute_result"
    }
   ],
   "source": [
    "array = np.array([[ 10,  20,  30,  40,  50],\n",
    "       [100, 210, 330, 430, 510]])\n",
    "\n",
    "array[1] - array[0]"
   ]
  },
  {
   "cell_type": "code",
   "execution_count": 32,
   "id": "10caef0d",
   "metadata": {},
   "outputs": [
    {
     "data": {
      "text/plain": [
       "array([10.  , 10.5 , 11.  , 10.75, 10.2 ])"
      ]
     },
     "execution_count": 32,
     "metadata": {},
     "output_type": "execute_result"
    }
   ],
   "source": [
    "array [1] / array [0]"
   ]
  },
  {
   "cell_type": "code",
   "execution_count": 33,
   "id": "f10b6f28",
   "metadata": {},
   "outputs": [
    {
     "data": {
      "text/plain": [
       "array([ 1000,  4200,  9900, 17200, 25500])"
      ]
     },
     "execution_count": 33,
     "metadata": {},
     "output_type": "execute_result"
    }
   ],
   "source": [
    "array[1]*array[0]"
   ]
  },
  {
   "cell_type": "code",
   "execution_count": 34,
   "id": "159075e4",
   "metadata": {},
   "outputs": [
    {
     "data": {
      "text/plain": [
       "array([[2.20264658e+004, 4.85165195e+008, 1.06864746e+013,\n",
       "        2.35385267e+017, 5.18470553e+021],\n",
       "       [2.68811714e+043, 1.59162664e+091, 2.07576903e+143,\n",
       "        5.57991031e+186, 3.09161760e+221]])"
      ]
     },
     "execution_count": 34,
     "metadata": {},
     "output_type": "execute_result"
    }
   ],
   "source": [
    "np.exp(arr)"
   ]
  },
  {
   "cell_type": "code",
   "execution_count": 35,
   "id": "42aa7d3f",
   "metadata": {},
   "outputs": [
    {
     "data": {
      "text/plain": [
       "array([[ 3.16227766,  4.47213595,  5.47722558,  6.32455532,  7.07106781],\n",
       "       [10.        , 14.49137675, 18.16590212, 20.73644135, 22.58317958]])"
      ]
     },
     "execution_count": 35,
     "metadata": {},
     "output_type": "execute_result"
    }
   ],
   "source": [
    "np.sqrt(arr)"
   ]
  },
  {
   "cell_type": "code",
   "execution_count": 36,
   "id": "ac4d3a37",
   "metadata": {},
   "outputs": [
    {
     "data": {
      "text/plain": [
       "array([  10,   81,  512, 2401, 7776])"
      ]
     },
     "execution_count": 36,
     "metadata": {},
     "output_type": "execute_result"
    }
   ],
   "source": [
    "array = [10,9,8,7,6]\n",
    "array2 = [1,2,3,4,5]\n",
    "\n",
    "np.power(array,array2)"
   ]
  },
  {
   "cell_type": "code",
   "execution_count": 37,
   "id": "ade6a493",
   "metadata": {},
   "outputs": [
    {
     "data": {
      "text/plain": [
       "[12, 13, 14, 15, 16, 10, 19, 18, 17, 12]"
      ]
     },
     "execution_count": 37,
     "metadata": {},
     "output_type": "execute_result"
    }
   ],
   "source": [
    "#When we use plus, we might think that addition operation happens, but here \"concatenation\" operation happens and they just become one array.\n",
    "\n",
    "a = [12,13,14,15,16]\n",
    "b = [10,19,18,17,12]\n",
    "\n",
    "a+b"
   ]
  },
  {
   "cell_type": "code",
   "execution_count": 38,
   "id": "6b5747db",
   "metadata": {},
   "outputs": [
    {
     "data": {
      "text/plain": [
       "array([22, 32, 32, 32, 28])"
      ]
     },
     "execution_count": 38,
     "metadata": {},
     "output_type": "execute_result"
    }
   ],
   "source": [
    "#if we want to perfom addition operation, we need do as follows:\n",
    "\n",
    "a = [12,13,14,15,16]\n",
    "b = [10,19,18,17,12]\n",
    "\n",
    "ara = np.array(a)\n",
    "arb = np.array(b)\n",
    "\n",
    "sum = ara + arb\n",
    "\n",
    "sum"
   ]
  },
  {
   "cell_type": "code",
   "execution_count": 39,
   "id": "3d53b911",
   "metadata": {},
   "outputs": [
    {
     "data": {
      "text/plain": [
       "array([[ 1,  2,  3],\n",
       "       [ 4,  5,  6],\n",
       "       [ 7,  8,  9],\n",
       "       [10, 12, 13]])"
      ]
     },
     "execution_count": 39,
     "metadata": {},
     "output_type": "execute_result"
    }
   ],
   "source": [
    "#Concatenate using axis as a reference 1\n",
    "\n",
    "cona = np.array([[1,2,3],[4,5,6]])\n",
    "conb = np.array([[7,8,9],[10,12,13]])\n",
    "\n",
    "np.concatenate([cona,conb], axis = 0)"
   ]
  },
  {
   "cell_type": "code",
   "execution_count": 40,
   "id": "73ae3a50",
   "metadata": {},
   "outputs": [
    {
     "data": {
      "text/plain": [
       "array([[ 1,  2,  3,  7,  8,  9],\n",
       "       [ 4,  5,  6, 10, 12, 13]])"
      ]
     },
     "execution_count": 40,
     "metadata": {},
     "output_type": "execute_result"
    }
   ],
   "source": [
    "#Concatenate using axis as a reference 2\n",
    "\n",
    "cona = np.array([[1,2,3],[4,5,6]])\n",
    "conb = np.array([[7,8,9],[10,12,13]])\n",
    "\n",
    "np.concatenate([cona,conb], axis = 1)"
   ]
  },
  {
   "cell_type": "code",
   "execution_count": 41,
   "id": "cc986b5e",
   "metadata": {},
   "outputs": [
    {
     "data": {
      "text/plain": [
       "array([[ 1,  2,  3,  7,  8,  9],\n",
       "       [ 4,  5,  6, 10, 12, 13]])"
      ]
     },
     "execution_count": 41,
     "metadata": {},
     "output_type": "execute_result"
    }
   ],
   "source": [
    "#We can achieve the same by using hstack function i.e, \"Horizontal Concatenation\"\n",
    "\n",
    "cona = np.array([[1,2,3],[4,5,6]])\n",
    "conb = np.array([[7,8,9],[10,12,13]])\n",
    "\n",
    "np.hstack([cona,conb])"
   ]
  },
  {
   "cell_type": "code",
   "execution_count": 42,
   "id": "d26d2d3a",
   "metadata": {},
   "outputs": [
    {
     "data": {
      "text/plain": [
       "array([[ 1,  2,  3],\n",
       "       [ 4,  5,  6],\n",
       "       [ 7,  8,  9],\n",
       "       [10, 12, 13]])"
      ]
     },
     "execution_count": 42,
     "metadata": {},
     "output_type": "execute_result"
    }
   ],
   "source": [
    "#We can achieve the another dimension by using vstack function i.e, \"Vertical Concatenation\"\n",
    "\n",
    "cona = np.array([[1,2,3],[4,5,6]])\n",
    "conb = np.array([[7,8,9],[10,12,13]])\n",
    "\n",
    "np.vstack([cona,conb])"
   ]
  },
  {
   "cell_type": "code",
   "execution_count": 43,
   "id": "ee0d0203",
   "metadata": {},
   "outputs": [
    {
     "data": {
      "text/plain": [
       "[array([11, 22]), array([33, 44]), array([55])]"
      ]
     },
     "execution_count": 43,
     "metadata": {},
     "output_type": "execute_result"
    }
   ],
   "source": [
    "#Splitting array into whatever no.of arrays we want.\n",
    "\n",
    "p = ([11,22,33,44,55])\n",
    "np.array_split(p,3)"
   ]
  },
  {
   "cell_type": "code",
   "execution_count": 44,
   "id": "84b22f69",
   "metadata": {},
   "outputs": [
    {
     "name": "stdout",
     "output_type": "stream",
     "text": [
      "[44 55]\n"
     ]
    }
   ],
   "source": [
    "# If we want ot retrieve speciic element from the element we use -\n",
    "# Here we are splitting the array into 2.\n",
    "# Then the indexing changes, afer the indexing changes we are asking for the index number 1 which is [44,55] in this case.\n",
    "\n",
    "p = ([11,22,33,44,55])\n",
    "q = np.array_split(p,2)\n",
    "print(q[1])"
   ]
  },
  {
   "cell_type": "code",
   "execution_count": 45,
   "id": "ddca86ca",
   "metadata": {},
   "outputs": [
    {
     "name": "stdout",
     "output_type": "stream",
     "text": [
      "[array([[11, 22, 33]]), array([[66, 44, 55]]), array([], shape=(0, 3), dtype=int32), array([], shape=(0, 3), dtype=int32), array([], shape=(0, 3), dtype=int32)]\n"
     ]
    }
   ],
   "source": [
    "p1 = np.array([[11,22,33],[66,44,55]])\n",
    "q1 = np.array_split(p1,5)\n",
    "print(q1)"
   ]
  },
  {
   "cell_type": "markdown",
   "id": "027f8d9a",
   "metadata": {},
   "source": [
    "# Adding & Deleting Elements"
   ]
  },
  {
   "cell_type": "code",
   "execution_count": 46,
   "id": "08502d00",
   "metadata": {},
   "outputs": [
    {
     "data": {
      "text/plain": [
       "array([ 1,  2,  3,  4, 30])"
      ]
     },
     "execution_count": 46,
     "metadata": {},
     "output_type": "execute_result"
    }
   ],
   "source": [
    "#append, insert, delete\n",
    "\n",
    "apparray = np.array([1,2,3,4])\n",
    "np.append(apparray,30)"
   ]
  },
  {
   "cell_type": "code",
   "execution_count": 47,
   "id": "3e354354",
   "metadata": {},
   "outputs": [
    {
     "data": {
      "text/plain": [
       "array([ 1,  2,  3,  4, 30, 50])"
      ]
     },
     "execution_count": 47,
     "metadata": {},
     "output_type": "execute_result"
    }
   ],
   "source": [
    "apparray = np.array([1,2,3,4])\n",
    "np.append(apparray,[30,50])\n",
    "\n",
    "#we can append elements in the form of array as well.\n",
    "#Main point to be remembered is that append adds the elements from the last, while insert gives us the facility of choosing the index number as well."
   ]
  },
  {
   "cell_type": "code",
   "execution_count": 48,
   "id": "0e00c41f",
   "metadata": {},
   "outputs": [
    {
     "data": {
      "text/plain": [
       "array([ 1,  2, 50,  3,  4])"
      ]
     },
     "execution_count": 48,
     "metadata": {},
     "output_type": "execute_result"
    }
   ],
   "source": [
    "apparray = np.array([1,2,3,4])\n",
    "np.insert(apparray,2,50) #array,index,value to be inserted"
   ]
  },
  {
   "cell_type": "code",
   "execution_count": 49,
   "id": "2419c2e3",
   "metadata": {},
   "outputs": [
    {
     "data": {
      "text/plain": [
       "array([[ 1,  2, 40,  3,  4],\n",
       "       [ 5,  6, 50,  7,  8]])"
      ]
     },
     "execution_count": 49,
     "metadata": {},
     "output_type": "execute_result"
    }
   ],
   "source": [
    "apparray = np.array([[1,2,3,4],[5,6,7,8]])\n",
    "\n",
    "np.insert(apparray,2,[40,50],axis = 1)"
   ]
  },
  {
   "cell_type": "code",
   "execution_count": 50,
   "id": "884d46a4",
   "metadata": {},
   "outputs": [
    {
     "name": "stdout",
     "output_type": "stream",
     "text": [
      "[[1 2 3 4]\n",
      " [5 6 7 8]]\n"
     ]
    },
    {
     "data": {
      "text/plain": [
       "array([[1, 3, 4],\n",
       "       [5, 7, 8]])"
      ]
     },
     "execution_count": 50,
     "metadata": {},
     "output_type": "execute_result"
    }
   ],
   "source": [
    "apparray = np.array([[1,2,3,4],[5,6,7,8]])\n",
    "print(apparray)\n",
    "\n",
    "np.delete(apparray,1,axis=1)"
   ]
  },
  {
   "cell_type": "markdown",
   "id": "744fac7d",
   "metadata": {},
   "source": [
    "# Serach, Sort & Filter"
   ]
  },
  {
   "cell_type": "code",
   "execution_count": 51,
   "id": "214fd91b",
   "metadata": {},
   "outputs": [
    {
     "name": "stdout",
     "output_type": "stream",
     "text": [
      "[ 3  4  8 10 11]\n"
     ]
    }
   ],
   "source": [
    "ar = np.array([10,8,4,11,3])\n",
    "print(np.sort(ar))"
   ]
  },
  {
   "cell_type": "code",
   "execution_count": 52,
   "id": "973266b2",
   "metadata": {},
   "outputs": [
    {
     "name": "stdout",
     "output_type": "stream",
     "text": [
      "(array([3], dtype=int64),)\n"
     ]
    }
   ],
   "source": [
    "ar = np.array([10,8,4,11,3])\n",
    "s = np.where(ar == 11)\n",
    "\n",
    "print(s)"
   ]
  },
  {
   "cell_type": "code",
   "execution_count": 53,
   "id": "bdeacbb3",
   "metadata": {},
   "outputs": [
    {
     "name": "stdout",
     "output_type": "stream",
     "text": [
      "(array([0, 1, 2], dtype=int64),)\n"
     ]
    }
   ],
   "source": [
    "ar = np.array([10,8,4,11,3])\n",
    "s = np.where(ar %2 == 0)\n",
    "\n",
    "print(s)"
   ]
  },
  {
   "cell_type": "code",
   "execution_count": 54,
   "id": "4e6d16db",
   "metadata": {},
   "outputs": [
    {
     "name": "stdout",
     "output_type": "stream",
     "text": [
      "5\n"
     ]
    }
   ],
   "source": [
    "#There is a function known as \"searchsorted\" in which in order to get the searched value, the array needs to be sorted in the first place.\n",
    "\n",
    "ar = np.array([10,8,4,11,3])\n",
    "ss = np.searchsorted(ar, 11)\n",
    "\n",
    "print(ss)\n",
    "\n",
    "#Even though we got the answer here, it is wrong and the function is assuming the array to be sorted."
   ]
  },
  {
   "cell_type": "code",
   "execution_count": 55,
   "id": "fec70ac6",
   "metadata": {},
   "outputs": [
    {
     "name": "stdout",
     "output_type": "stream",
     "text": [
      "4\n"
     ]
    }
   ],
   "source": [
    "#In order to correct the above problem, we need to do as below - \n",
    "\n",
    "ar = np.array([3,4,8,10,11])\n",
    "ss = np.searchsorted(ar, 11)\n",
    "\n",
    "print(ss)\n"
   ]
  },
  {
   "cell_type": "code",
   "execution_count": 56,
   "id": "856b140b",
   "metadata": {},
   "outputs": [
    {
     "data": {
      "text/plain": [
       "array([ 8, 10, 11])"
      ]
     },
     "execution_count": 56,
     "metadata": {},
     "output_type": "execute_result"
    }
   ],
   "source": [
    "\n",
    "ar = np.array([3,4,8,10,11])\n",
    "\n",
    "filterarray = ar > 4\n",
    "\n",
    "arr = ar[filterarray]\n",
    "\n",
    "arr"
   ]
  },
  {
   "cell_type": "markdown",
   "id": "51af7b15",
   "metadata": {},
   "source": [
    "# Aggregating Functions"
   ]
  },
  {
   "cell_type": "code",
   "execution_count": 57,
   "id": "8889f749",
   "metadata": {},
   "outputs": [
    {
     "name": "stdout",
     "output_type": "stream",
     "text": [
      "150\n",
      "12000000\n",
      "10\n",
      "50\n"
     ]
    },
    {
     "ename": "AttributeError",
     "evalue": "module 'numpy' has no attribute 'count'",
     "output_type": "error",
     "traceback": [
      "\u001b[1;31m---------------------------------------------------------------------------\u001b[0m",
      "\u001b[1;31mAttributeError\u001b[0m                            Traceback (most recent call last)",
      "Cell \u001b[1;32mIn[57], line 7\u001b[0m\n\u001b[0;32m      5\u001b[0m \u001b[38;5;28mprint\u001b[39m(np\u001b[38;5;241m.\u001b[39mmin(ap))\n\u001b[0;32m      6\u001b[0m \u001b[38;5;28mprint\u001b[39m(np\u001b[38;5;241m.\u001b[39mmax(ap))\n\u001b[1;32m----> 7\u001b[0m \u001b[38;5;28mprint\u001b[39m(np\u001b[38;5;241m.\u001b[39mcount(ap))\n",
      "File \u001b[1;32m~\\anaconda3\\Lib\\site-packages\\numpy\\__init__.py:333\u001b[0m, in \u001b[0;36m__getattr__\u001b[1;34m(attr)\u001b[0m\n\u001b[0;32m    330\u001b[0m     \u001b[38;5;124m\"\u001b[39m\u001b[38;5;124mRemoved in NumPy 1.25.0\u001b[39m\u001b[38;5;124m\"\u001b[39m\n\u001b[0;32m    331\u001b[0m     \u001b[38;5;28;01mraise\u001b[39;00m \u001b[38;5;167;01mRuntimeError\u001b[39;00m(\u001b[38;5;124m\"\u001b[39m\u001b[38;5;124mTester was removed in NumPy 1.25.\u001b[39m\u001b[38;5;124m\"\u001b[39m)\n\u001b[1;32m--> 333\u001b[0m \u001b[38;5;28;01mraise\u001b[39;00m \u001b[38;5;167;01mAttributeError\u001b[39;00m(\u001b[38;5;124m\"\u001b[39m\u001b[38;5;124mmodule \u001b[39m\u001b[38;5;132;01m{!r}\u001b[39;00m\u001b[38;5;124m has no attribute \u001b[39m\u001b[38;5;124m\"\u001b[39m\n\u001b[0;32m    334\u001b[0m                      \u001b[38;5;124m\"\u001b[39m\u001b[38;5;132;01m{!r}\u001b[39;00m\u001b[38;5;124m\"\u001b[39m\u001b[38;5;241m.\u001b[39mformat(\u001b[38;5;18m__name__\u001b[39m, attr))\n",
      "\u001b[1;31mAttributeError\u001b[0m: module 'numpy' has no attribute 'count'"
     ]
    }
   ],
   "source": [
    "ap = np.array([10,20,30,40,50])\n",
    "\n",
    "print(np.sum(ap))\n",
    "print(np.prod(ap))\n",
    "print(np.min(ap))\n",
    "print(np.max(ap))\n",
    "print(np.count(ap))"
   ]
  },
  {
   "cell_type": "code",
   "execution_count": 58,
   "id": "d968f433",
   "metadata": {},
   "outputs": [
    {
     "name": "stdout",
     "output_type": "stream",
     "text": [
      "5\n",
      "30.0\n",
      "[ 10  30  60 100 150]\n",
      "[      10      200     6000   240000 12000000]\n"
     ]
    }
   ],
   "source": [
    "#In order to count the no.of elements, we need to use size function\n",
    "\n",
    "print(np.size(ap))\n",
    "\n",
    "print(np.mean(ap))\n",
    "print(np.cumsum(ap))\n",
    "print(np.cumprod(ap))"
   ]
  },
  {
   "cell_type": "code",
   "execution_count": 59,
   "id": "f436ffc4",
   "metadata": {},
   "outputs": [
    {
     "name": "stdout",
     "output_type": "stream",
     "text": [
      "286.6666666666667\n",
      "275.0\n"
     ]
    },
    {
     "ename": "AttributeError",
     "evalue": "module 'numpy' has no attribute 'mode'",
     "output_type": "error",
     "traceback": [
      "\u001b[1;31m---------------------------------------------------------------------------\u001b[0m",
      "\u001b[1;31mAttributeError\u001b[0m                            Traceback (most recent call last)",
      "Cell \u001b[1;32mIn[59], line 5\u001b[0m\n\u001b[0;32m      3\u001b[0m \u001b[38;5;28mprint\u001b[39m(np\u001b[38;5;241m.\u001b[39mmean(ap))\n\u001b[0;32m      4\u001b[0m \u001b[38;5;28mprint\u001b[39m(np\u001b[38;5;241m.\u001b[39mmedian(ap))\n\u001b[1;32m----> 5\u001b[0m \u001b[38;5;28mprint\u001b[39m(np\u001b[38;5;241m.\u001b[39mmode(ap))\n",
      "File \u001b[1;32m~\\anaconda3\\Lib\\site-packages\\numpy\\__init__.py:333\u001b[0m, in \u001b[0;36m__getattr__\u001b[1;34m(attr)\u001b[0m\n\u001b[0;32m    330\u001b[0m     \u001b[38;5;124m\"\u001b[39m\u001b[38;5;124mRemoved in NumPy 1.25.0\u001b[39m\u001b[38;5;124m\"\u001b[39m\n\u001b[0;32m    331\u001b[0m     \u001b[38;5;28;01mraise\u001b[39;00m \u001b[38;5;167;01mRuntimeError\u001b[39;00m(\u001b[38;5;124m\"\u001b[39m\u001b[38;5;124mTester was removed in NumPy 1.25.\u001b[39m\u001b[38;5;124m\"\u001b[39m)\n\u001b[1;32m--> 333\u001b[0m \u001b[38;5;28;01mraise\u001b[39;00m \u001b[38;5;167;01mAttributeError\u001b[39;00m(\u001b[38;5;124m\"\u001b[39m\u001b[38;5;124mmodule \u001b[39m\u001b[38;5;132;01m{!r}\u001b[39;00m\u001b[38;5;124m has no attribute \u001b[39m\u001b[38;5;124m\"\u001b[39m\n\u001b[0;32m    334\u001b[0m                      \u001b[38;5;124m\"\u001b[39m\u001b[38;5;132;01m{!r}\u001b[39;00m\u001b[38;5;124m\"\u001b[39m\u001b[38;5;241m.\u001b[39mformat(\u001b[38;5;18m__name__\u001b[39m, attr))\n",
      "\u001b[1;31mAttributeError\u001b[0m: module 'numpy' has no attribute 'mode'"
     ]
    }
   ],
   "source": [
    "ap = np.array([100,220,330,450,520,100])\n",
    "\n",
    "print(np.mean(ap))\n",
    "print(np.median(ap))\n",
    "print(np.mode(ap))"
   ]
  },
  {
   "cell_type": "code",
   "execution_count": 72,
   "id": "857a66db",
   "metadata": {},
   "outputs": [
    {
     "name": "stdout",
     "output_type": "stream",
     "text": [
      "ModeResult(mode=100, count=2)\n",
      "161.82981458584473\n",
      "26188.888888888887\n"
     ]
    }
   ],
   "source": [
    "#in order to get mode, we need to use 'stats' function\n",
    "\n",
    "import numpy as np\n",
    "from scipy import stats\n",
    "\n",
    "ap = np.array([100,220,330,450,520,100])\n",
    "\n",
    "print(stats.mode(ap))\n",
    "print(np.std(ap))\n",
    "print(np.var(ap))"
   ]
  },
  {
   "cell_type": "code",
   "execution_count": 69,
   "id": "c21b89bc",
   "metadata": {},
   "outputs": [
    {
     "name": "stdout",
     "output_type": "stream",
     "text": [
      "[[1.        0.2291924]\n",
      " [0.2291924 1.       ]]\n"
     ]
    }
   ],
   "source": [
    "# -1 represents inversely proportional relationship.\n",
    "# 1 represents directly proportional relationship.\n",
    "# 0 represents no relationship\n",
    "\n",
    "alcohol = [100,300,200,130,240]\n",
    "casualties = [12,9,25,10,30]\n",
    "\n",
    "print(np.corrcoef([alcohol,casualties]))"
   ]
  }
 ],
 "metadata": {
  "kernelspec": {
   "display_name": "Python 3 (ipykernel)",
   "language": "python",
   "name": "python3"
  },
  "language_info": {
   "codemirror_mode": {
    "name": "ipython",
    "version": 3
   },
   "file_extension": ".py",
   "mimetype": "text/x-python",
   "name": "python",
   "nbconvert_exporter": "python",
   "pygments_lexer": "ipython3",
   "version": "3.11.7"
  }
 },
 "nbformat": 4,
 "nbformat_minor": 5
}
